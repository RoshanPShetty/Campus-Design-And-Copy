{
  "nbformat": 4,
  "nbformat_minor": 0,
  "metadata": {
    "colab": {
      "name": "Copy of Homework 6.ipynb",
      "provenance": [],
      "collapsed_sections": [],
      "toc_visible": true,
      "include_colab_link": true
    },
    "kernelspec": {
      "name": "python3",
      "display_name": "Python 3"
    },
    "language_info": {
      "name": "python"
    }
  },
  "cells": [
    {
      "cell_type": "markdown",
      "metadata": {
        "id": "view-in-github",
        "colab_type": "text"
      },
      "source": [
        "<a href=\"https://colab.research.google.com/github/RoshanPShetty/Campus-Design-And-Copy/blob/master/Copy_of_Homework_6.ipynb\" target=\"_parent\"><img src=\"https://colab.research.google.com/assets/colab-badge.svg\" alt=\"Open In Colab\"/></a>"
      ]
    },
    {
      "cell_type": "code",
      "metadata": {
        "id": "HmElPHcJ6wdq"
      },
      "source": [
        "import random\n",
        "import sys\n",
        "import pandas as pd\n",
        "import altair as alt"
      ],
      "execution_count": 118,
      "outputs": []
    },
    {
      "cell_type": "markdown",
      "metadata": {
        "id": "R0Xf1Kq2pE6o"
      },
      "source": [
        "# The BufferManager class"
      ]
    },
    {
      "cell_type": "code",
      "metadata": {
        "id": "8w-ei6kY7PKc"
      },
      "source": [
        "#  This is a class definition for a buffer manager simulator\n",
        "#  It is instantiated with a size (bufferPoolSize) and a string describing an implemented policy (policyName)\n",
        "#  Calling method 'setWorkload' will establish a workload\n",
        "#  Calling method 'simulate' will run the workload under the chosen policy\n",
        "#  Calling method 'missRate' will return the percentage of page accesses which were cache misses.\n",
        "\n",
        "class BufferManager:\n",
        "\n",
        "    def __init__(self, bufferPoolSize, policyName):\n",
        "        self.size = bufferPoolSize\n",
        "        self.policyName = policyName\n",
        "        self.buffer = [None]*self.size   # buffer[i] stores the pageID of frame i; empty frames contain None.\n",
        "        self.used = [0]*self.size        # used[i] contains the clock value of the last time the page in frame i was used.\n",
        "        self.timeIn = [0]*self.size\n",
        "        self.cacheHit = 0\n",
        "        self.cacheMiss = 0\n",
        "        self.clock = 0\n",
        "        self.workload = [ ]\n",
        "        self.policyList = {              # This dictionary associates policy names with policy functions\n",
        "            'RANDOM': self.policyRANDOM, \n",
        "            'LRU': self.policyLRU,\n",
        "            'MRU': self.policyMRU,\n",
        "            'MYSTERY': self.policyMYSTERY,\n",
        "            'FIFO': self.policyFIFO\n",
        "            }\n",
        "        self.replacementPolicy = self.policyList[self.policyName]  # this chooses the desired policy function and assigns it to 'replacementPolicy' which holds a function object \n",
        "        random.seed('blah')     # set seed so results for random policy are repeatable\n",
        "  \n",
        "    def missRate(self):     # return the cache miss rate after a simulation \n",
        "        return float(self.cacheMiss) / (self.cacheHit + self.cacheMiss)\n",
        "  \n",
        "    def setWorkload(self, workload):\n",
        "        self.workload = workload[:]\n",
        "  \n",
        "    def simulate(self):\n",
        "        while len(self.workload) > 0:\n",
        "            page = self.workload.pop(0)\n",
        "            self.request(page)\n",
        "  \n",
        "    def request(self, pageID):    # this is the main logic in which the buffer manager responds to a request for 'pageID'\n",
        "        if pageID in self.buffer:   # page is already in buffer\n",
        "            self.cacheHit += 1\n",
        "            # record that the page was accessed in the 'used' dictionary\n",
        "            frameUsed = self.buffer.index(pageID)   # List.index(element) returns the first position in the list where 'element' occurs\n",
        "        else:             # page is not present in buffer\n",
        "            self.cacheMiss += 1\n",
        "            if None in self.buffer:     # there is free space\n",
        "                frameUsed = self.buffer.index(None)   # find first available frame\n",
        "                self.buffer[ frameUsed ] = pageID     # place pageID in the frame\n",
        "                self.timeIn[ frameUsed ] = self.clock   # maintain timeIn for FIFO\n",
        "            else:           # there is no free space -- something must be replaced\n",
        "                frameUsed = self.replacementPolicy()  # use the policy to find the frame to replace\n",
        "                self.buffer[ frameUsed ] = pageID\n",
        "                self.timeIn[ frameUsed ] = self.clock # maintain timeIn for FIFO\n",
        "        self.used[ frameUsed ] = self.clock # no matter which case happened, record that page in the touched frame was accessed\n",
        "        self.clock += 1           # move clock forward\n",
        "\n",
        "        #################################################################################################\n",
        "        #  Replacement Policies\n",
        "        \n",
        "    def policyLRU(self):\n",
        "        # implement this\n",
        "        frame = self.used.index( min(self.used) )\n",
        "        return frame \n",
        "\n",
        "    def policyMRU(self):\n",
        "        frame = self.used.index( max(self.used) )\n",
        "        return frame\n",
        "\n",
        "    def policyRANDOM(self):     # this policy chooses a random frame to be replaced\n",
        "        return random.randint(0,self.size-1)\n",
        "\n",
        "    def policyMYSTERY(self):    # mystery policy.  What is this doing?\n",
        "        temp = []\n",
        "        for page in self.buffer:\n",
        "            if page in self.workload:\n",
        "                temp.append( self.workload.index(page) )\n",
        "            else:\n",
        "                temp.append( sys.maxsize )  # sys.maxsize is an integer larger than any practical list or string index\n",
        "        maxIndex = max( temp )\n",
        "        return temp.index( maxIndex )   # this is the frame choosen for replacement\n",
        "\n",
        "    def policyFIFO(self):   \n",
        "        # implement this\n",
        "        frame = self.timeIn.index( min(self.timeIn) )\n",
        "        return frame"
      ],
      "execution_count": 119,
      "outputs": []
    },
    {
      "cell_type": "markdown",
      "metadata": {
        "id": "nF6N0f6DoYmX"
      },
      "source": [
        "# Workload generators\n",
        "for a random sequence of page accesses and a sequence arises from a nested-loops implementation."
      ]
    },
    {
      "cell_type": "code",
      "metadata": {
        "id": "xya-jySK7j9b"
      },
      "source": [
        "#  Workload generators\n",
        "\n",
        "#  This function generates a workload of page accesses: that is, a sequence of pageIDs.\n",
        "#  This workload is a random sequence of pageIDs of the specified length, workloadLength.\n",
        "def randomWorkload( dataSize, workloadLength, seed ):\n",
        "    random.seed(seed)\n",
        "    workload = []\n",
        "    for i in range(workloadLength):\n",
        "        workload.append( random.randint(0,dataSize-1) )\n",
        "    return workload\n",
        "\n",
        "#  This function generates a workload of page accesses: that is, a sequence of pageIDs.\n",
        "#  This workload is the sequence of pageIDs that would result from running a nested loops computation of a join or crossproduct \n",
        "#  over relations R and S where each relation has size m = (dataSize/2)\n",
        "#  The length of the workload is 2(m^2)\n",
        "def nestedLoopsWorkload( dataSize ):\n",
        "    workload = []\n",
        "    tableR = range(0,dataSize//2)\n",
        "    tableS = range(dataSize//2,dataSize)\n",
        "    for i in tableR:\n",
        "        for j in tableS:\n",
        "            workload.append(i)\n",
        "            workload.append(j)\n",
        "    return workload\n"
      ],
      "execution_count": 120,
      "outputs": []
    },
    {
      "cell_type": "code",
      "metadata": {
        "id": "4pgJ1Qek71sB"
      },
      "source": [
        "def run_policies(workload, bufferSize=100):\n",
        "\n",
        "    results = []\n",
        "    # Run some buffer manager simulations, for different buffer sizes\n",
        "    for policy in ['RANDOM','LRU','MRU','MYSTERY','FIFO']:        # Add new policies here, as needed\n",
        "        for bufferSize in [5, 10, 25, 50, 75, 90, 100]:   # These buffer sizes don't need to be changed\n",
        "            B = BufferManager( bufferSize, policy )\n",
        "            B.setWorkload( workload )\n",
        "            B.simulate()\n",
        "            results.append([policy, B.size, B.missRate()])\n",
        "    \n",
        "    # return results as a Pandas dataframe\n",
        "    return pd.DataFrame(results, columns = ['Policy','Buffer_Size' , 'Miss_Rate'])\n",
        "  "
      ],
      "execution_count": 121,
      "outputs": []
    },
    {
      "cell_type": "markdown",
      "metadata": {
        "id": "_waZ2Xbipv5I"
      },
      "source": [
        "# Simulate the random workload"
      ]
    },
    {
      "cell_type": "code",
      "metadata": {
        "id": "i6dJ18b6p-bI"
      },
      "source": [
        "# This is the number of data pages stored on disk.\n",
        "# We assume stored pages have pageIDs from 0 to (dataSize-1)\n",
        "dataSize = 100    # Leave this as-is; you don't have to change this."
      ],
      "execution_count": 122,
      "outputs": []
    },
    {
      "cell_type": "code",
      "metadata": {
        "id": "oDhY1ngwqIVa",
        "colab": {
          "base_uri": "https://localhost:8080/",
          "height": 1000
        },
        "outputId": "787b0353-3ae8-4cca-81c6-0256548bda9e"
      },
      "source": [
        "rand_workload = randomWorkload( dataSize, 5000, seed='iLoveDatabases')\n",
        "df = run_policies(rand_workload)\n",
        "print(df)\n",
        "\n",
        "# display chart\n",
        "alt.Chart(df).mark_line(point=True).encode(x='Buffer_Size:Q', y='Miss_Rate:Q', color='Policy')"
      ],
      "execution_count": 123,
      "outputs": [
        {
          "output_type": "stream",
          "text": [
            "     Policy  Buffer_Size  Miss_Rate\n",
            "0    RANDOM            5     0.9496\n",
            "1    RANDOM           10     0.9028\n",
            "2    RANDOM           25     0.7438\n",
            "3    RANDOM           50     0.5050\n",
            "4    RANDOM           75     0.2606\n",
            "5    RANDOM           90     0.1142\n",
            "6    RANDOM          100     0.0200\n",
            "7       LRU            5     0.9560\n",
            "8       LRU           10     0.9034\n",
            "9       LRU           25     0.7544\n",
            "10      LRU           50     0.5070\n",
            "11      LRU           75     0.2620\n",
            "12      LRU           90     0.1134\n",
            "13      LRU          100     0.0200\n",
            "14      MRU            5     0.9470\n",
            "15      MRU           10     0.8972\n",
            "16      MRU           25     0.7484\n",
            "17      MRU           50     0.4966\n",
            "18      MRU           75     0.2578\n",
            "19      MRU           90     0.1108\n",
            "20      MRU          100     0.0200\n",
            "21  MYSTERY            5     0.7806\n",
            "22  MYSTERY           10     0.6514\n",
            "23  MYSTERY           25     0.4272\n",
            "24  MYSTERY           50     0.2174\n",
            "25  MYSTERY           75     0.0922\n",
            "26  MYSTERY           90     0.0422\n",
            "27  MYSTERY          100     0.0200\n",
            "28     FIFO            5     0.9568\n",
            "29     FIFO           10     0.9060\n",
            "30     FIFO           25     0.7524\n",
            "31     FIFO           50     0.5076\n",
            "32     FIFO           75     0.2528\n",
            "33     FIFO           90     0.1140\n",
            "34     FIFO          100     0.0200\n"
          ],
          "name": "stdout"
        },
        {
          "output_type": "execute_result",
          "data": {
            "text/plain": [
              "alt.Chart(...)"
            ],
            "text/html": [
              "\n",
              "<div id=\"altair-viz-1ade78bf595d49edb614fa07792ffa04\"></div>\n",
              "<script type=\"text/javascript\">\n",
              "  (function(spec, embedOpt){\n",
              "    let outputDiv = document.currentScript.previousElementSibling;\n",
              "    if (outputDiv.id !== \"altair-viz-1ade78bf595d49edb614fa07792ffa04\") {\n",
              "      outputDiv = document.getElementById(\"altair-viz-1ade78bf595d49edb614fa07792ffa04\");\n",
              "    }\n",
              "    const paths = {\n",
              "      \"vega\": \"https://cdn.jsdelivr.net/npm//vega@5?noext\",\n",
              "      \"vega-lib\": \"https://cdn.jsdelivr.net/npm//vega-lib?noext\",\n",
              "      \"vega-lite\": \"https://cdn.jsdelivr.net/npm//vega-lite@4.8.1?noext\",\n",
              "      \"vega-embed\": \"https://cdn.jsdelivr.net/npm//vega-embed@6?noext\",\n",
              "    };\n",
              "\n",
              "    function loadScript(lib) {\n",
              "      return new Promise(function(resolve, reject) {\n",
              "        var s = document.createElement('script');\n",
              "        s.src = paths[lib];\n",
              "        s.async = true;\n",
              "        s.onload = () => resolve(paths[lib]);\n",
              "        s.onerror = () => reject(`Error loading script: ${paths[lib]}`);\n",
              "        document.getElementsByTagName(\"head\")[0].appendChild(s);\n",
              "      });\n",
              "    }\n",
              "\n",
              "    function showError(err) {\n",
              "      outputDiv.innerHTML = `<div class=\"error\" style=\"color:red;\">${err}</div>`;\n",
              "      throw err;\n",
              "    }\n",
              "\n",
              "    function displayChart(vegaEmbed) {\n",
              "      vegaEmbed(outputDiv, spec, embedOpt)\n",
              "        .catch(err => showError(`Javascript Error: ${err.message}<br>This usually means there's a typo in your chart specification. See the javascript console for the full traceback.`));\n",
              "    }\n",
              "\n",
              "    if(typeof define === \"function\" && define.amd) {\n",
              "      requirejs.config({paths});\n",
              "      require([\"vega-embed\"], displayChart, err => showError(`Error loading script: ${err.message}`));\n",
              "    } else if (typeof vegaEmbed === \"function\") {\n",
              "      displayChart(vegaEmbed);\n",
              "    } else {\n",
              "      loadScript(\"vega\")\n",
              "        .then(() => loadScript(\"vega-lite\"))\n",
              "        .then(() => loadScript(\"vega-embed\"))\n",
              "        .catch(showError)\n",
              "        .then(() => displayChart(vegaEmbed));\n",
              "    }\n",
              "  })({\"config\": {\"view\": {\"continuousWidth\": 400, \"continuousHeight\": 300}}, \"data\": {\"name\": \"data-ae6c779c5a2c5aa79dab4589095352e9\"}, \"mark\": {\"type\": \"line\", \"point\": true}, \"encoding\": {\"color\": {\"type\": \"nominal\", \"field\": \"Policy\"}, \"x\": {\"type\": \"quantitative\", \"field\": \"Buffer_Size\"}, \"y\": {\"type\": \"quantitative\", \"field\": \"Miss_Rate\"}}, \"$schema\": \"https://vega.github.io/schema/vega-lite/v4.8.1.json\", \"datasets\": {\"data-ae6c779c5a2c5aa79dab4589095352e9\": [{\"Policy\": \"RANDOM\", \"Buffer_Size\": 5, \"Miss_Rate\": 0.9496}, {\"Policy\": \"RANDOM\", \"Buffer_Size\": 10, \"Miss_Rate\": 0.9028}, {\"Policy\": \"RANDOM\", \"Buffer_Size\": 25, \"Miss_Rate\": 0.7438}, {\"Policy\": \"RANDOM\", \"Buffer_Size\": 50, \"Miss_Rate\": 0.505}, {\"Policy\": \"RANDOM\", \"Buffer_Size\": 75, \"Miss_Rate\": 0.2606}, {\"Policy\": \"RANDOM\", \"Buffer_Size\": 90, \"Miss_Rate\": 0.1142}, {\"Policy\": \"RANDOM\", \"Buffer_Size\": 100, \"Miss_Rate\": 0.02}, {\"Policy\": \"LRU\", \"Buffer_Size\": 5, \"Miss_Rate\": 0.956}, {\"Policy\": \"LRU\", \"Buffer_Size\": 10, \"Miss_Rate\": 0.9034}, {\"Policy\": \"LRU\", \"Buffer_Size\": 25, \"Miss_Rate\": 0.7544}, {\"Policy\": \"LRU\", \"Buffer_Size\": 50, \"Miss_Rate\": 0.507}, {\"Policy\": \"LRU\", \"Buffer_Size\": 75, \"Miss_Rate\": 0.262}, {\"Policy\": \"LRU\", \"Buffer_Size\": 90, \"Miss_Rate\": 0.1134}, {\"Policy\": \"LRU\", \"Buffer_Size\": 100, \"Miss_Rate\": 0.02}, {\"Policy\": \"MRU\", \"Buffer_Size\": 5, \"Miss_Rate\": 0.947}, {\"Policy\": \"MRU\", \"Buffer_Size\": 10, \"Miss_Rate\": 0.8972}, {\"Policy\": \"MRU\", \"Buffer_Size\": 25, \"Miss_Rate\": 0.7484}, {\"Policy\": \"MRU\", \"Buffer_Size\": 50, \"Miss_Rate\": 0.4966}, {\"Policy\": \"MRU\", \"Buffer_Size\": 75, \"Miss_Rate\": 0.2578}, {\"Policy\": \"MRU\", \"Buffer_Size\": 90, \"Miss_Rate\": 0.1108}, {\"Policy\": \"MRU\", \"Buffer_Size\": 100, \"Miss_Rate\": 0.02}, {\"Policy\": \"MYSTERY\", \"Buffer_Size\": 5, \"Miss_Rate\": 0.7806}, {\"Policy\": \"MYSTERY\", \"Buffer_Size\": 10, \"Miss_Rate\": 0.6514}, {\"Policy\": \"MYSTERY\", \"Buffer_Size\": 25, \"Miss_Rate\": 0.4272}, {\"Policy\": \"MYSTERY\", \"Buffer_Size\": 50, \"Miss_Rate\": 0.2174}, {\"Policy\": \"MYSTERY\", \"Buffer_Size\": 75, \"Miss_Rate\": 0.0922}, {\"Policy\": \"MYSTERY\", \"Buffer_Size\": 90, \"Miss_Rate\": 0.0422}, {\"Policy\": \"MYSTERY\", \"Buffer_Size\": 100, \"Miss_Rate\": 0.02}, {\"Policy\": \"FIFO\", \"Buffer_Size\": 5, \"Miss_Rate\": 0.9568}, {\"Policy\": \"FIFO\", \"Buffer_Size\": 10, \"Miss_Rate\": 0.906}, {\"Policy\": \"FIFO\", \"Buffer_Size\": 25, \"Miss_Rate\": 0.7524}, {\"Policy\": \"FIFO\", \"Buffer_Size\": 50, \"Miss_Rate\": 0.5076}, {\"Policy\": \"FIFO\", \"Buffer_Size\": 75, \"Miss_Rate\": 0.2528}, {\"Policy\": \"FIFO\", \"Buffer_Size\": 90, \"Miss_Rate\": 0.114}, {\"Policy\": \"FIFO\", \"Buffer_Size\": 100, \"Miss_Rate\": 0.02}]}}, {\"mode\": \"vega-lite\"});\n",
              "</script>"
            ]
          },
          "metadata": {
            "tags": []
          },
          "execution_count": 123
        }
      ]
    },
    {
      "cell_type": "markdown",
      "metadata": {
        "id": "E9_dcwzxuBqv"
      },
      "source": [
        "# Simulate the nested-loops workload"
      ]
    },
    {
      "cell_type": "code",
      "metadata": {
        "id": "-fPeXF1TqN71",
        "colab": {
          "base_uri": "https://localhost:8080/",
          "height": 1000
        },
        "outputId": "c6d4a0de-85ab-419c-b906-aed2d637daf4"
      },
      "source": [
        "import numpy as np\n",
        "nested_workload = nestedLoopsWorkload( dataSize )\n",
        "df = run_policies(nested_workload)\n",
        "print(df)\n",
        "\n",
        "# display chart\n",
        "alt.Chart(df).mark_line(point=True).encode(x='Buffer_Size:Q', y='Miss_Rate:Q', color='Policy')"
      ],
      "execution_count": 124,
      "outputs": [
        {
          "output_type": "stream",
          "text": [
            "     Policy  Buffer_Size  Miss_Rate\n",
            "0    RANDOM            5     0.6066\n",
            "1    RANDOM           10     0.5584\n",
            "2    RANDOM           25     0.4412\n",
            "3    RANDOM           50     0.1140\n",
            "4    RANDOM           75     0.0348\n",
            "5    RANDOM           90     0.0212\n",
            "6    RANDOM          100     0.0200\n",
            "7       LRU            5     0.5100\n",
            "8       LRU           10     0.5100\n",
            "9       LRU           25     0.5100\n",
            "10      LRU           50     0.5100\n",
            "11      LRU           75     0.0200\n",
            "12      LRU           90     0.0200\n",
            "13      LRU          100     0.0200\n",
            "14      MRU            5     0.9208\n",
            "15      MRU           10     0.8218\n",
            "16      MRU           25     0.5248\n",
            "17      MRU           50     0.0298\n",
            "18      MRU           75     0.0250\n",
            "19      MRU           90     0.0220\n",
            "20      MRU          100     0.0200\n",
            "21  MYSTERY            5     0.4798\n",
            "22  MYSTERY           10     0.4298\n",
            "23  MYSTERY           25     0.2798\n",
            "24  MYSTERY           50     0.0298\n",
            "25  MYSTERY           75     0.0200\n",
            "26  MYSTERY           90     0.0200\n",
            "27  MYSTERY          100     0.0200\n",
            "28     FIFO            5     0.6000\n",
            "29     FIFO           10     0.5500\n",
            "30     FIFO           25     0.5200\n",
            "31     FIFO           50     0.5100\n",
            "32     FIFO           75     0.0300\n",
            "33     FIFO           90     0.0300\n",
            "34     FIFO          100     0.0200\n"
          ],
          "name": "stdout"
        },
        {
          "output_type": "execute_result",
          "data": {
            "text/plain": [
              "alt.Chart(...)"
            ],
            "text/html": [
              "\n",
              "<div id=\"altair-viz-189f7fc1cd7a4002a67ea4f28a975867\"></div>\n",
              "<script type=\"text/javascript\">\n",
              "  (function(spec, embedOpt){\n",
              "    let outputDiv = document.currentScript.previousElementSibling;\n",
              "    if (outputDiv.id !== \"altair-viz-189f7fc1cd7a4002a67ea4f28a975867\") {\n",
              "      outputDiv = document.getElementById(\"altair-viz-189f7fc1cd7a4002a67ea4f28a975867\");\n",
              "    }\n",
              "    const paths = {\n",
              "      \"vega\": \"https://cdn.jsdelivr.net/npm//vega@5?noext\",\n",
              "      \"vega-lib\": \"https://cdn.jsdelivr.net/npm//vega-lib?noext\",\n",
              "      \"vega-lite\": \"https://cdn.jsdelivr.net/npm//vega-lite@4.8.1?noext\",\n",
              "      \"vega-embed\": \"https://cdn.jsdelivr.net/npm//vega-embed@6?noext\",\n",
              "    };\n",
              "\n",
              "    function loadScript(lib) {\n",
              "      return new Promise(function(resolve, reject) {\n",
              "        var s = document.createElement('script');\n",
              "        s.src = paths[lib];\n",
              "        s.async = true;\n",
              "        s.onload = () => resolve(paths[lib]);\n",
              "        s.onerror = () => reject(`Error loading script: ${paths[lib]}`);\n",
              "        document.getElementsByTagName(\"head\")[0].appendChild(s);\n",
              "      });\n",
              "    }\n",
              "\n",
              "    function showError(err) {\n",
              "      outputDiv.innerHTML = `<div class=\"error\" style=\"color:red;\">${err}</div>`;\n",
              "      throw err;\n",
              "    }\n",
              "\n",
              "    function displayChart(vegaEmbed) {\n",
              "      vegaEmbed(outputDiv, spec, embedOpt)\n",
              "        .catch(err => showError(`Javascript Error: ${err.message}<br>This usually means there's a typo in your chart specification. See the javascript console for the full traceback.`));\n",
              "    }\n",
              "\n",
              "    if(typeof define === \"function\" && define.amd) {\n",
              "      requirejs.config({paths});\n",
              "      require([\"vega-embed\"], displayChart, err => showError(`Error loading script: ${err.message}`));\n",
              "    } else if (typeof vegaEmbed === \"function\") {\n",
              "      displayChart(vegaEmbed);\n",
              "    } else {\n",
              "      loadScript(\"vega\")\n",
              "        .then(() => loadScript(\"vega-lite\"))\n",
              "        .then(() => loadScript(\"vega-embed\"))\n",
              "        .catch(showError)\n",
              "        .then(() => displayChart(vegaEmbed));\n",
              "    }\n",
              "  })({\"config\": {\"view\": {\"continuousWidth\": 400, \"continuousHeight\": 300}}, \"data\": {\"name\": \"data-6823851e616252687716bbeb881c3829\"}, \"mark\": {\"type\": \"line\", \"point\": true}, \"encoding\": {\"color\": {\"type\": \"nominal\", \"field\": \"Policy\"}, \"x\": {\"type\": \"quantitative\", \"field\": \"Buffer_Size\"}, \"y\": {\"type\": \"quantitative\", \"field\": \"Miss_Rate\"}}, \"$schema\": \"https://vega.github.io/schema/vega-lite/v4.8.1.json\", \"datasets\": {\"data-6823851e616252687716bbeb881c3829\": [{\"Policy\": \"RANDOM\", \"Buffer_Size\": 5, \"Miss_Rate\": 0.6066}, {\"Policy\": \"RANDOM\", \"Buffer_Size\": 10, \"Miss_Rate\": 0.5584}, {\"Policy\": \"RANDOM\", \"Buffer_Size\": 25, \"Miss_Rate\": 0.4412}, {\"Policy\": \"RANDOM\", \"Buffer_Size\": 50, \"Miss_Rate\": 0.114}, {\"Policy\": \"RANDOM\", \"Buffer_Size\": 75, \"Miss_Rate\": 0.0348}, {\"Policy\": \"RANDOM\", \"Buffer_Size\": 90, \"Miss_Rate\": 0.0212}, {\"Policy\": \"RANDOM\", \"Buffer_Size\": 100, \"Miss_Rate\": 0.02}, {\"Policy\": \"LRU\", \"Buffer_Size\": 5, \"Miss_Rate\": 0.51}, {\"Policy\": \"LRU\", \"Buffer_Size\": 10, \"Miss_Rate\": 0.51}, {\"Policy\": \"LRU\", \"Buffer_Size\": 25, \"Miss_Rate\": 0.51}, {\"Policy\": \"LRU\", \"Buffer_Size\": 50, \"Miss_Rate\": 0.51}, {\"Policy\": \"LRU\", \"Buffer_Size\": 75, \"Miss_Rate\": 0.02}, {\"Policy\": \"LRU\", \"Buffer_Size\": 90, \"Miss_Rate\": 0.02}, {\"Policy\": \"LRU\", \"Buffer_Size\": 100, \"Miss_Rate\": 0.02}, {\"Policy\": \"MRU\", \"Buffer_Size\": 5, \"Miss_Rate\": 0.9208}, {\"Policy\": \"MRU\", \"Buffer_Size\": 10, \"Miss_Rate\": 0.8218}, {\"Policy\": \"MRU\", \"Buffer_Size\": 25, \"Miss_Rate\": 0.5248}, {\"Policy\": \"MRU\", \"Buffer_Size\": 50, \"Miss_Rate\": 0.0298}, {\"Policy\": \"MRU\", \"Buffer_Size\": 75, \"Miss_Rate\": 0.025}, {\"Policy\": \"MRU\", \"Buffer_Size\": 90, \"Miss_Rate\": 0.022}, {\"Policy\": \"MRU\", \"Buffer_Size\": 100, \"Miss_Rate\": 0.02}, {\"Policy\": \"MYSTERY\", \"Buffer_Size\": 5, \"Miss_Rate\": 0.4798}, {\"Policy\": \"MYSTERY\", \"Buffer_Size\": 10, \"Miss_Rate\": 0.4298}, {\"Policy\": \"MYSTERY\", \"Buffer_Size\": 25, \"Miss_Rate\": 0.2798}, {\"Policy\": \"MYSTERY\", \"Buffer_Size\": 50, \"Miss_Rate\": 0.0298}, {\"Policy\": \"MYSTERY\", \"Buffer_Size\": 75, \"Miss_Rate\": 0.02}, {\"Policy\": \"MYSTERY\", \"Buffer_Size\": 90, \"Miss_Rate\": 0.02}, {\"Policy\": \"MYSTERY\", \"Buffer_Size\": 100, \"Miss_Rate\": 0.02}, {\"Policy\": \"FIFO\", \"Buffer_Size\": 5, \"Miss_Rate\": 0.6}, {\"Policy\": \"FIFO\", \"Buffer_Size\": 10, \"Miss_Rate\": 0.55}, {\"Policy\": \"FIFO\", \"Buffer_Size\": 25, \"Miss_Rate\": 0.52}, {\"Policy\": \"FIFO\", \"Buffer_Size\": 50, \"Miss_Rate\": 0.51}, {\"Policy\": \"FIFO\", \"Buffer_Size\": 75, \"Miss_Rate\": 0.03}, {\"Policy\": \"FIFO\", \"Buffer_Size\": 90, \"Miss_Rate\": 0.03}, {\"Policy\": \"FIFO\", \"Buffer_Size\": 100, \"Miss_Rate\": 0.02}]}}, {\"mode\": \"vega-lite\"});\n",
              "</script>"
            ]
          },
          "metadata": {
            "tags": []
          },
          "execution_count": 124
        }
      ]
    },
    {
      "cell_type": "markdown",
      "metadata": {
        "id": "aYIztg7GjCAV"
      },
      "source": [
        "# 1(c) \n",
        "Why does the cache miss rate remain above zero, even when the buffer is as large as the\n",
        "total number of data pages (i.e. equal to the value of dataSize)?\n",
        "\n",
        "When a page is requested, we need to check if it is in the buffer pool? If so then it is cache hit, and we increment pin count. If not then it is cache miss. Since the first one is not present in the buffer pool, it will always be a cache miss. Therefore, the miss rate would never be zero regardless of the buffer size. \n"
      ]
    },
    {
      "cell_type": "markdown",
      "metadata": {
        "id": "r5x24SZ3jIx8"
      },
      "source": [
        "# 1(d)\n",
        "How does policyMYSTERY compute the page to replace and how does it perform in\n",
        "comparison to the other policies? What challenge would you face in implementing policyMYSTERY\n",
        "in a real system?\n",
        "\n",
        "policyMYSTERY computes the page to replace by returning the index of a page with the max value from the buffer. When there are pages from the buffer that isn't in the workload, temp is appended to sys.maxsize and so would return the page the first index that isn't in the workload. If all of them are present in the workload, then index of all the pages are appended and the max is returned. As noticed in the graphs, policyMYSTERY's performance is the best in comparison to the rest of the policies. This is true in case of both the random workload and a nested-loops workload. We need to make sure that we take of sequential flooding when it comes to implementing policyMYSTERY. If the number of buffer frames is less than the number of pages in the file, then that would lead to difficulties. So this needs to be taken care of as. \n",
        "\n",
        "\n"
      ]
    },
    {
      "cell_type": "markdown",
      "metadata": {
        "id": "-hQabWqSIBAT"
      },
      "source": [
        "# 1(e)\n",
        "For the nested loops workload, how would you explain the performance of the MRU\n",
        "policy when the buffer size is greater than or equal to 50?\n",
        "\n",
        "`nested_workload` calls the `nestedLoopsWorkload` would where we append `j` from `datasize//2` to `datasize`  for each `i` from `0` to `datasize//2` and so would result in the following structure:\n",
        "\n",
        "`[0, 50, 0, 51, 0, 52, 0, 53, 0, 54, 0, 55, 0, 56, 0, 57, 0, 58, 0, 59, 0, 60, 0, 61, 0, 62, 0, 63, 0, 64, 0, 65, 0, 66, 0, 67, 0, 68, 0, 69, 0, 70, 0, 71, 0, 72, 0, 73, 0, 74, 0, 75, 0, 76, 0, 77, 0, 78, 0, 79, 0, 80, 0, 81, 0, 82, 0, 83, 0, 84, 0, 85, 0, 86, 0, 87, 0, 88, 0, 89, 0, 90, 0, 91, 0, 92, 0, 93, 0, 94, 0, 95, 0, 96, 0, 97, 0, 98, 0, 99, 1, 50, ... 49, 99]`\n",
        "\n",
        "This implies that the `buffer size` is smaller than the number of pages, and so it would work much better with `MRU` than other policies, althought it's not true for all cases. In case of when the `buffer size` is 50 or greater, it would be better as it prevents sequential flooding. In  only 50 of them can be added at once. With MRU, the most recently used page would be replaced for each iteration. Therefore, we can see that the `miss_rate` is halved when we reach during the first iteration and for the rest of the iterations it is significantly reduced as only `1,2,...49` are missed and the rest of the elements were already hit. Therefore, when the `buffer size` is greater or equal to 50, the performance is very good as a result of the prevention of sequential flooding. "
      ]
    }
  ]
}